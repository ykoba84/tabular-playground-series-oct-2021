{
  "cells": [
    {
      "cell_type": "code",
      "execution_count": 1,
      "metadata": {
        "id": "NUv9Ic88P7dR"
      },
      "outputs": [],
      "source": [
        "import numpy as np # linear algebra\n",
        "import pandas as pd # data processing, CSV file I/O (e.g. pd.read_csv)\n",
        "import os"
      ]
    },
    {
      "cell_type": "code",
      "execution_count": 2,
      "metadata": {
        "colab": {
          "base_uri": "https://localhost:8080/",
          "height": 102
        },
        "id": "GH40hTFndjrJ",
        "outputId": "c11c6cfb-0c7a-49fb-be9d-dfe7bebeddce"
      },
      "outputs": [],
      "source": [
        "import random\n",
        "import gc\n",
        "from sklearn.metrics import roc_auc_score\n",
        "from sklearn.model_selection import train_test_split\n",
        "from sklearn.model_selection import KFold,StratifiedKFold\n",
        "from lightgbm import LGBMClassifier\n",
        "\n",
        "import plotly.express as px\n",
        "import plotly.graph_objects as go\n",
        "from plotly.subplots import make_subplots\n",
        "from sklearn import preprocessing\n",
        "import seaborn as sns\n",
        "\n",
        "import matplotlib.pyplot as plt\n",
        "%matplotlib inline\n",
        "\n",
        "#!pip install datatable\n",
        "#import datatable as dt"
      ]
    },
    {
      "cell_type": "code",
      "execution_count": 3,
      "metadata": {
        "id": "c5-UtwWqjwBr"
      },
      "outputs": [],
      "source": [
        "train = pd.read_csv('../input/train.csv')\n",
        "test = pd.read_csv('../input/test.csv')\n",
        "sub = pd.read_csv('../input/sample_submission.csv')\n",
        "y = train['target']"
      ]
    },
    {
      "cell_type": "code",
      "execution_count": 4,
      "metadata": {
        "colab": {
          "base_uri": "https://localhost:8080/"
        },
        "id": "BrBCI8Aym3eG",
        "outputId": "6b2b944a-f34d-4870-f294-0992cc8eeaa7"
      },
      "outputs": [
        {
          "name": "stdout",
          "output_type": "stream",
          "text": [
            "<class 'pandas.core.frame.DataFrame'>\n",
            "RangeIndex: 1000000 entries, 0 to 999999\n",
            "Columns: 287 entries, id to target\n",
            "dtypes: float64(240), int64(47)\n",
            "memory usage: 2.1 GB\n"
          ]
        }
      ],
      "source": [
        "train.info()"
      ]
    },
    {
      "cell_type": "markdown",
      "metadata": {
        "id": "DjsUIXJnhH8P"
      },
      "source": [
        "## Modeling"
      ]
    },
    {
      "cell_type": "code",
      "execution_count": 5,
      "metadata": {
        "id": "TV9uTwq9hJ9b"
      },
      "outputs": [],
      "source": [
        "continous_cols= ['f'+str(i) for i in range(242)]\n",
        "continous_cols.remove('f22')\n",
        "continous_cols.remove('f43')\n",
        "categorical_cols = ['f'+str(i) for i in range(242,285)]+['f22','f43']\n",
        "cols = continous_cols + categorical_cols"
      ]
    },
    {
      "cell_type": "code",
      "execution_count": 6,
      "metadata": {
        "id": "D4AQQv3mhNvW"
      },
      "outputs": [],
      "source": [
        "from sklearn.preprocessing import RobustScaler\n",
        "scaler = RobustScaler()\n",
        "train[continous_cols] = scaler.fit_transform(train[continous_cols])\n",
        "test[continous_cols] = scaler.transform(test[continous_cols])"
      ]
    },
    {
      "cell_type": "code",
      "execution_count": 7,
      "metadata": {
        "id": "mWq39HuThVpE"
      },
      "outputs": [],
      "source": [
        "params = {\n",
        "    'reg_alpha': 8.784125077358365,\n",
        "    'reg_lambda': 0.0025286925777068953,\n",
        "    'colsample_bytree': 0.2,\n",
        "    'subsample': 0.5,\n",
        "    'learning_rate': 0.025,\n",
        "    'max_depth': 100,\n",
        "    'num_leaves': 7,\n",
        "    'min_child_samples': 185,\n",
        "    'cat_smooth': 54,\n",
        "    'objective': 'binary',  \n",
        "    'random_state': 48,\n",
        "    'n_estimators': 20000,\n",
        "    'n_jobs': -1\n",
        "    }"
      ]
    },
    {
      "cell_type": "code",
      "execution_count": 8,
      "metadata": {
        "colab": {
          "base_uri": "https://localhost:8080/"
        },
        "id": "IASjpXN0nxVx",
        "outputId": "77dc90f0-5eaf-480c-fbf4-59b0008d7755"
      },
      "outputs": [
        {
          "name": "stdout",
          "output_type": "stream",
          "text": [
            "fold: 1, auc: 0.8573776914255349\n",
            "fold: 2, auc: 0.8573726570206998\n",
            "fold: 3, auc: 0.8576769133129075\n",
            "fold: 4, auc: 0.8569299989955711\n",
            "fold: 5, auc: 0.8583327159427404\n",
            "fold: 6, auc: 0.8558183007221458\n",
            "fold: 7, auc: 0.8558685487684545\n",
            "fold: 8, auc: 0.8559062244031764\n",
            "fold: 9, auc: 0.8560541217394786\n",
            "fold: 10, auc: 0.8587173073938704\n"
          ]
        }
      ],
      "source": [
        "preds = np.zeros(test.shape[0])\n",
        "kf = StratifiedKFold(n_splits=10,random_state=48,shuffle=True)\n",
        "auc=[]  # list contains auc for each fold\n",
        "n=0\n",
        "for trn_idx, test_idx in kf.split(train[cols],y):\n",
        "    X_tr,X_val=train[cols].iloc[trn_idx],train[cols].iloc[test_idx]\n",
        "    y_tr,y_val=y.iloc[trn_idx],y.iloc[test_idx]\n",
        "    model = LGBMClassifier(**params)\n",
        "    model.fit(X_tr,y_tr,eval_set=[(X_val,y_val)],early_stopping_rounds=100,eval_metric=\"auc\",verbose=False)\n",
        "    preds += model.predict_proba(test[cols])[:,1]/kf.n_splits\n",
        "    auc.append(roc_auc_score(y_val, model.predict_proba(X_val)[:, 1]))\n",
        "    gc.collect()\n",
        "    print(f\"fold: {n+1}, auc: {auc[n]}\")\n",
        "    n+=1  "
      ]
    },
    {
      "cell_type": "code",
      "execution_count": 9,
      "metadata": {
        "id": "g8c34rmWn0YL"
      },
      "outputs": [
        {
          "data": {
            "text/plain": [
              "0.8570054479724579"
            ]
          },
          "execution_count": 9,
          "metadata": {},
          "output_type": "execute_result"
        }
      ],
      "source": [
        "np.mean(auc)"
      ]
    },
    {
      "cell_type": "code",
      "execution_count": 11,
      "metadata": {
        "id": "KShgbijYn2-U"
      },
      "outputs": [
        {
          "data": {
            "text/html": [
              "<div>\n",
              "<style scoped>\n",
              "    .dataframe tbody tr th:only-of-type {\n",
              "        vertical-align: middle;\n",
              "    }\n",
              "\n",
              "    .dataframe tbody tr th {\n",
              "        vertical-align: top;\n",
              "    }\n",
              "\n",
              "    .dataframe thead th {\n",
              "        text-align: right;\n",
              "    }\n",
              "</style>\n",
              "<table border=\"1\" class=\"dataframe\">\n",
              "  <thead>\n",
              "    <tr style=\"text-align: right;\">\n",
              "      <th></th>\n",
              "      <th>id</th>\n",
              "      <th>target</th>\n",
              "    </tr>\n",
              "  </thead>\n",
              "  <tbody>\n",
              "    <tr>\n",
              "      <th>0</th>\n",
              "      <td>1000000</td>\n",
              "      <td>0.763309</td>\n",
              "    </tr>\n",
              "    <tr>\n",
              "      <th>1</th>\n",
              "      <td>1000001</td>\n",
              "      <td>0.237555</td>\n",
              "    </tr>\n",
              "    <tr>\n",
              "      <th>2</th>\n",
              "      <td>1000002</td>\n",
              "      <td>0.901139</td>\n",
              "    </tr>\n",
              "    <tr>\n",
              "      <th>3</th>\n",
              "      <td>1000003</td>\n",
              "      <td>0.867541</td>\n",
              "    </tr>\n",
              "    <tr>\n",
              "      <th>4</th>\n",
              "      <td>1000004</td>\n",
              "      <td>0.248017</td>\n",
              "    </tr>\n",
              "  </tbody>\n",
              "</table>\n",
              "</div>"
            ],
            "text/plain": [
              "        id    target\n",
              "0  1000000  0.763309\n",
              "1  1000001  0.237555\n",
              "2  1000002  0.901139\n",
              "3  1000003  0.867541\n",
              "4  1000004  0.248017"
            ]
          },
          "execution_count": 11,
          "metadata": {},
          "output_type": "execute_result"
        }
      ],
      "source": [
        "sub['target']=preds\n",
        "sub.to_csv('../output/submission.csv', index=False)\n",
        "\n",
        "sub.head()"
      ]
    }
  ],
  "metadata": {
    "accelerator": "GPU",
    "colab": {
      "authorship_tag": "ABX9TyN8pHOvjHiAksdJmt44wlpO",
      "mount_file_id": "1CkEe7Jz-ESXf3yPOauC7tHFru9hH9gt6",
      "name": "TPS Oct LightGBM",
      "provenance": []
    },
    "interpreter": {
      "hash": "1b7c7c15d39f5b036d988eba5dfaf3f00b684f4304f600e42dbe2219d95baa49"
    },
    "kernelspec": {
      "display_name": "Python 3.9.7 64-bit ('base': conda)",
      "name": "python3"
    },
    "language_info": {
      "codemirror_mode": {
        "name": "ipython",
        "version": 3
      },
      "file_extension": ".py",
      "mimetype": "text/x-python",
      "name": "python",
      "nbconvert_exporter": "python",
      "pygments_lexer": "ipython3",
      "version": "3.9.7"
    }
  },
  "nbformat": 4,
  "nbformat_minor": 0
}
